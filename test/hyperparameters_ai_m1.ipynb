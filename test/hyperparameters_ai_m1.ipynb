{
 "cells": [
  {
   "cell_type": "markdown",
   "metadata": {},
   "source": [
    "# How can we improve accuracy for models by tuning Hyperparameters?"
   ]
  },
  {
   "cell_type": "code",
   "execution_count": null,
   "metadata": {},
   "outputs": [
    {
     "name": "stdout",
     "output_type": "stream",
     "text": [
      "Index(['# `rec_id`', ' `url`', ' `website`', ' `result`', ' `created_date` '], dtype='object')\n",
      "Model: ExtraTreeClassifier\n",
      "Accuracy: 0.86\n",
      "              precision    recall  f1-score   support\n",
      "\n",
      "           0       0.87      0.90      0.89      3703\n",
      "           1       0.83      0.78      0.81      2279\n",
      "\n",
      "    accuracy                           0.86      5982\n",
      "   macro avg       0.85      0.84      0.85      5982\n",
      "weighted avg       0.86      0.86      0.86      5982\n",
      "\n"
     ]
    },
    {
     "data": {
      "image/png": "[encoded data removed]",
      "text/plain": [
       "<Figure size 800x600 with 2 Axes>"
      ]
     },
     "metadata": {},
     "output_type": "display_data"
    },
    {
     "name": "stdout",
     "output_type": "stream",
     "text": [
      "Best parameters: {'criterion': 'entropy', 'max_depth': None, 'min_samples_leaf': 1, 'min_samples_split': 10}\n",
      "Best score: 0.88\n"
     ]
    }
   ],
   "source": [
    "import pandas as pd\n",
    "from sklearn.model_selection import train_test_split\n",
    "from sklearn.feature_extraction.text import TfidfVectorizer\n",
    "from sklearn.tree import ExtraTreeClassifier\n",
    "from sklearn.metrics import accuracy_score, classification_report, confusion_matrix\n",
    "import matplotlib.pyplot as plt\n",
    "import seaborn as sns\n",
    "from sklearn.model_selection import GridSearchCV\n",
    "\n",
    "# Load your dataset\n",
    "website_df = pd.read_csv(\"data.csv\", on_bad_lines='skip')\n",
    "print(website_df.columns)\n",
    "# Clean up the data\n",
    "website_df = website_df.drop(columns=['# `rec_id`', ' `website`', ' `created_date` '])\n",
    "website_df = website_df.rename(columns={' `url`': 'website_url', ' `result`': 'result'})\n",
    "website_df = website_df[~website_df['result'].astype(str).str.contains('result', case=False)]\n",
    "\n",
    "\n",
    "# Only use a quarter of the data\n",
    "sample_size = int(0.25 * len(website_df))\n",
    "website_df = website_df.sample(sample_size, random_state=42)\n",
    "\n",
    "# Split data into training and testing sets\n",
    "X = website_df[['website_url']]\n",
    "y = website_df['result']\n",
    "X_train, X_test, y_train, y_test = train_test_split(X, y, test_size=0.3, random_state=42)\n",
    "\n",
    "\n",
    "# TF-IDF Vectorization\n",
    "tfidf_vectorizer = TfidfVectorizer()\n",
    "X_train_tfidf = tfidf_vectorizer.fit_transform(X_train['website_url'])\n",
    "X_test_tfidf = tfidf_vectorizer.transform(X_test['website_url'])\n",
    "\n",
    "# Train and evaluate Extra Trees Classifier\n",
    "et_model = ExtraTreeClassifier()\n",
    "et_model.fit(X_train_tfidf, y_train)\n",
    "y_pred = et_model.predict(X_test_tfidf)\n",
    "\n",
    "# Evaluation\n",
    "accuracy = accuracy_score(y_test, y_pred)\n",
    "report = classification_report(y_test, y_pred)\n",
    "\n",
    "print(f'Model: {et_model.__class__.__name__}')\n",
    "print(f'Accuracy: {accuracy:.2f}')\n",
    "print(report)\n",
    "\n",
    "\n",
    "# Model tuning\n",
    "from sklearn.model_selection import GridSearchCV\n",
    "\n",
    "# Define the parameter grid\n",
    "param_grid = {\n",
    "    'criterion': ['gini', 'entropy'],\n",
    "    'max_depth': [None, 5, 10, 15, 20],\n",
    "    'min_samples_split': [2, 5, 10],\n",
    "    'min_samples_leaf': [1, 2, 5]\n",
    "}\n",
    "\n",
    "# Create a GridSearchCV object\n",
    "grid_search = GridSearchCV(et_model, param_grid, cv=5, scoring='accuracy')\n",
    "\n",
    "# Fit the model\n",
    "grid_search.fit(X_train_tfidf, y_train)\n",
    "\n",
    "# Print the best parameters and the best score\n",
    "print(f'Best parameters: {grid_search.best_params_}')\n",
    "print(f'Best score: {grid_search.best_score_:.2f}')\n",
    "\n"
   ]
  },
  {
   "cell_type": "markdown",
   "metadata": {},
   "source": [
    "# Tuning Hyperparameters for DecisionTreeClassifier"
   ]
  },
  {
   "cell_type": "code",
   "execution_count": null,
   "metadata": {},
   "outputs": [
    {
     "name": "stdout",
     "output_type": "stream",
     "text": [
      "Best parameters: {'criterion': 'gini', 'max_depth': None, 'min_samples_leaf': 1, 'min_samples_split': 10}\n",
      "Best score: 0.89\n"
     ]
    }
   ],
   "source": [
    "from sklearn.tree import DecisionTreeClassifier\n",
    "from sklearn.model_selection import GridSearchCV\n",
    "\n",
    "# Define the parameter grid\n",
    "param_grid = {\n",
    "    'criterion': ['gini', 'entropy'],\n",
    "    'max_depth': [None, 5, 10, 15, 20],\n",
    "    'min_samples_split': [2, 5, 10],\n",
    "    'min_samples_leaf': [1, 2, 5]\n",
    "}\n",
    "\n",
    "# Create a GridSearchCV object\n",
    "grid_search = GridSearchCV(DecisionTreeClassifier(), param_grid, cv=5, scoring='accuracy')\n",
    "\n",
    "# Fit the model\n",
    "grid_search.fit(X_train_tfidf, y_train)\n",
    "\n",
    "# Print the best parameters and the best score\n",
    "print(f'Best parameters: {grid_search.best_params_}')\n",
    "print(f'Best score: {grid_search.best_score_:.2f}')\n"
   ]
  },
  {
   "cell_type": "markdown",
   "metadata": {},
   "source": [
    "# Without hyperparameter Grid Search Optimization"
   ]
  },
  {
   "cell_type": "code",
   "execution_count": null,
   "metadata": {},
   "outputs": [
    {
     "name": "stdout",
     "output_type": "stream",
     "text": [
      "Model: ExtraTreeClassifier\n",
      "Accuracy: 0.84\n",
      "              precision    recall  f1-score   support\n",
      "\n",
      "           0       0.87      0.88      0.87      3703\n",
      "           1       0.80      0.79      0.79      2279\n",
      "\n",
      "    accuracy                           0.84      5982\n",
      "   macro avg       0.84      0.83      0.83      5982\n",
      "weighted avg       0.84      0.84      0.84      5982\n",
      "\n"
     ]
    }
   ],
   "source": [
    "import pandas as pd\n",
    "from sklearn.model_selection import train_test_split\n",
    "from sklearn.feature_extraction.text import TfidfVectorizer\n",
    "from sklearn.tree import ExtraTreeClassifier,DecisionTreeClassifier\n",
    "from sklearn.metrics import accuracy_score, classification_report, confusion_matrix\n",
    "import matplotlib.pyplot as plt\n",
    "import seaborn as sns\n",
    "from sklearn.model_selection import GridSearchCV\n",
    "\n",
    "# Load your dataset\n",
    "website_df = pd.read_csv(\"data.csv\", on_bad_lines='skip')\n",
    "# Clean up the data\n",
    "website_df = website_df.drop(columns=['# `rec_id`', ' `website`', ' `created_date` '])\n",
    "website_df = website_df.rename(columns={' `url`': 'website_url', ' `result`': 'result'})\n",
    "website_df = website_df[~website_df['result'].astype(str).str.contains('result', case=False)]\n",
    "\n",
    "\n",
    "# Only use a quarter of the data\n",
    "sample_size = int(0.25 * len(website_df))\n",
    "website_df = website_df.sample(sample_size, random_state=42)\n",
    "\n",
    "# Split data into training and testing sets\n",
    "X = website_df[['website_url']]\n",
    "y = website_df['result']\n",
    "X_train, X_test, y_train, y_test = train_test_split(X, y, test_size=0.3, random_state=42)\n",
    "\n",
    "\n",
    "# TF-IDF Vectorization\n",
    "tfidf_vectorizer = TfidfVectorizer()\n",
    "X_train_tfidf = tfidf_vectorizer.fit_transform(X_train['website_url'])\n",
    "X_test_tfidf = tfidf_vectorizer.transform(X_test['website_url'])\n",
    "\n",
    "# Train and evaluate Extra Trees Classifier\n",
    "et_model = ExtraTreeClassifier()\n",
    "et_model.fit(X_train_tfidf, y_train)\n",
    "y_pred = et_model.predict(X_test_tfidf)\n",
    "\n",
    "# Evaluation\n",
    "accuracy = accuracy_score(y_test, y_pred)\n",
    "report = classification_report(y_test, y_pred)\n",
    "\n",
    "print(f'Model: {et_model.__class__.__name__}')\n",
    "print(f'Accuracy: {accuracy:.2f}')\n",
    "print(report)\n"
   ]
  },
  {
   "cell_type": "code",
   "execution_count": null,
   "metadata": {},
   "outputs": [
    {
     "name": "stdout",
     "output_type": "stream",
     "text": [
      "Model: ExtraTreeClassifier\n",
      "Accuracy: 0.86\n",
      "              precision    recall  f1-score   support\n",
      "\n",
      "           0       0.87      0.91      0.89      3703\n",
      "           1       0.84      0.79      0.81      2279\n",
      "\n",
      "    accuracy                           0.86      5982\n",
      "   macro avg       0.86      0.85      0.85      5982\n",
      "weighted avg       0.86      0.86      0.86      5982\n",
      "\n"
     ]
    }
   ],
   "source": [
    "# Train and evaluate Extra Trees Classifier\n",
    "et_model = ExtraTreeClassifier()\n",
    "et_model.fit(X_train_tfidf, y_train)\n",
    "y_pred = et_model.predict(X_test_tfidf)\n",
    "\n",
    "# Evaluation\n",
    "accuracy = accuracy_score(y_test, y_pred)\n",
    "report = classification_report(y_test, y_pred)\n",
    "\n",
    "print(f'Model: {et_model.__class__.__name__}')\n",
    "print(f'Accuracy: {accuracy:.2f}')\n",
    "print(report)"
   ]
  }
 ],
 "metadata": {
  "language_info": {
   "name": "python"
  }
 },
 "nbformat": 4,
 "nbformat_minor": 2
}
